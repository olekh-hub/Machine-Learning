{
 "cells": [
  {
   "cell_type": "code",
   "execution_count": 2,
   "id": "6483558e-fd1e-46da-9f18-960a9ff1fb6f",
   "metadata": {},
   "outputs": [],
   "source": [
    "import warnings\n",
    "warnings.filterwarnings('ignore')\n",
    "import numpy as np\n",
    "import pandas as pd"
   ]
  },
  {
   "cell_type": "code",
   "execution_count": 2,
   "id": "04d317f6-1d49-4790-9f61-90a4ded1f987",
   "metadata": {
    "tags": []
   },
   "outputs": [],
   "source": [
    "titanic_df = pd.read_csv('../Zbiór danych Titanic.arff.txt', header=None, skiprows=17, na_values='?', sep=',')\n",
    "colnames = ['Pclass', 'Survived', 'Name', 'Sex', 'Age', 'SibSp', 'Parch', 'Ticket', 'Fare', 'Cabin', 'Embarked', 'Boat', 'Body', 'Home Destination']\n",
    "titanic_df.columns = colnames\n",
    "titanic_df.index.name = 'PassengerId'"
   ]
  },
  {
   "cell_type": "code",
   "execution_count": 3,
   "id": "a791de26-46d4-4dbe-9843-4b9de56aec15",
   "metadata": {
    "tags": []
   },
   "outputs": [],
   "source": [
    "titanic_df = pd.read_csv('titanic_df.csv')"
   ]
  },
  {
   "cell_type": "code",
   "execution_count": 4,
   "id": "6ea75053-6589-406b-ba19-c841a4452826",
   "metadata": {
    "tags": []
   },
   "outputs": [
    {
     "name": "stdout",
     "output_type": "stream",
     "text": [
      "<class 'pandas.core.frame.DataFrame'>\n",
      "RangeIndex: 1306 entries, 0 to 1305\n",
      "Data columns (total 15 columns):\n",
      " #   Column            Non-Null Count  Dtype  \n",
      "---  ------            --------------  -----  \n",
      " 0   PassengerId       1306 non-null   int64  \n",
      " 1   Pclass            1306 non-null   int64  \n",
      " 2   Survived          1306 non-null   int64  \n",
      " 3   Name              1306 non-null   object \n",
      " 4   Sex               1306 non-null   object \n",
      " 5   Age               1306 non-null   float64\n",
      " 6   SibSp             1306 non-null   int64  \n",
      " 7   Parch             1306 non-null   int64  \n",
      " 8   Ticket            1306 non-null   object \n",
      " 9   Fare              1306 non-null   float64\n",
      " 10  Cabin             293 non-null    object \n",
      " 11  Embarked          1306 non-null   object \n",
      " 12  Boat              1306 non-null   object \n",
      " 13  Body              1306 non-null   float64\n",
      " 14  Home Destination  744 non-null    object \n",
      "dtypes: float64(3), int64(5), object(7)\n",
      "memory usage: 153.2+ KB\n"
     ]
    }
   ],
   "source": [
    "titanic_df.info()"
   ]
  },
  {
   "cell_type": "markdown",
   "id": "7566c193-fb08-44b9-bc92-d321202066b5",
   "metadata": {},
   "source": [
    "Jako zmienne jakosciowe zaklasyfikowalem kolumny **Pclass, Survived, Sex, Ticket, Cabin, Embarked, Boat, Body, Home Destination**"
   ]
  },
  {
   "cell_type": "code",
   "execution_count": 5,
   "id": "e7b2a175-29ed-4fbd-bf01-d48a13267db4",
   "metadata": {
    "tags": []
   },
   "outputs": [],
   "source": [
    "jakosciowe = ['Pclass', 'Survived', 'Sex', 'Ticket', 'Cabin', 'Embarked', 'Boat', 'Body', 'Home Destination']"
   ]
  },
  {
   "cell_type": "markdown",
   "id": "60161dd9-9e31-410e-bd17-8f2f066c1934",
   "metadata": {},
   "source": [
    "1. Sprawdź liczebność poszczególnych etykiet dla danych zmiennych jakościowych"
   ]
  },
  {
   "cell_type": "code",
   "execution_count": 6,
   "id": "070f3738-deb1-43f3-a329-e1b2fcd06bfc",
   "metadata": {
    "tags": []
   },
   "outputs": [],
   "source": [
    "def etykiety(df, colname):\n",
    "    return f'Liczba etykiet zmiennej {colname} = {len(df[colname].unique())}'"
   ]
  },
  {
   "cell_type": "code",
   "execution_count": 7,
   "id": "21685033-1cb8-4ac6-9c27-0a2dbca9f459",
   "metadata": {
    "tags": []
   },
   "outputs": [
    {
     "name": "stdout",
     "output_type": "stream",
     "text": [
      "Liczba etykiet zmiennej Pclass = 3\n",
      "Liczba etykiet zmiennej Survived = 2\n",
      "Liczba etykiet zmiennej Sex = 2\n",
      "Liczba etykiet zmiennej Ticket = 927\n",
      "Liczba etykiet zmiennej Cabin = 186\n",
      "Liczba etykiet zmiennej Embarked = 3\n",
      "Liczba etykiet zmiennej Boat = 28\n",
      "Liczba etykiet zmiennej Body = 121\n",
      "Liczba etykiet zmiennej Home Destination = 369\n"
     ]
    }
   ],
   "source": [
    "for zmienna in jakosciowe:\n",
    "    print(etykiety(titanic_df, zmienna))"
   ]
  },
  {
   "cell_type": "markdown",
   "id": "809d358a-e76e-4f01-ba14-98e94989496e",
   "metadata": {},
   "source": [
    "2.  Wyświetl z użyciem funkcji print liczbę wszystkich pasażerów. Wykorzystaj podobny sposób jak w ptk 1."
   ]
  },
  {
   "cell_type": "code",
   "execution_count": 8,
   "id": "51bc4e37-bbe6-47d4-b48e-e9466242d794",
   "metadata": {
    "tags": []
   },
   "outputs": [
    {
     "name": "stdout",
     "output_type": "stream",
     "text": [
      "Liczba pasazerow = 1306\n"
     ]
    }
   ],
   "source": [
    "print(f'Liczba pasazerow = {len(titanic_df.index)}')"
   ]
  },
  {
   "cell_type": "markdown",
   "id": "f59295d4-56ab-4bfd-b8fb-033bdcb059df",
   "metadata": {
    "tags": []
   },
   "source": [
    " Skomentuj wyniki otrzymane w punkcie 1 i 2. Podziel zmienne ze względu na dużą i małą moc zbioru (kardynalność). <br>\n",
    " Zmienne o dużej mocy zbioru to:\n",
    "- Wyniki zdają się być tak jakich można było się spodziewać, wiadomo że ktoś mógł przeżyć lub nie, że były 3 klasy lub że zmienna Sex mogła mieć 2 wartości\n",
    "- Warto zaznaczyć, że zmienna **Embarked** ma 3 unikalne wartości, bo czwartą jest NaN\n",
    "- Ciekawa natomiast jest wysoka wartość zmiennej **Home Destination**, bo wynosi aż **370**\n",
    "- Do zmiennych o małej mocy zbioru zaliczyłbym **PClass, Survived, Sex, Embarked i Boat**, a pozostałe do dużej mocy"
   ]
  },
  {
   "cell_type": "markdown",
   "id": "433fe624-46b1-4e7b-92a9-d0d946178707",
   "metadata": {},
   "source": [
    "4.     Sprawdź, ile unikalnych etykiet ma zmienna mówiąca o kabinie danego pasażera. Użyj takiej funkcji, która zwraca wynik w postaci NumPy array."
   ]
  },
  {
   "cell_type": "code",
   "execution_count": 9,
   "id": "30994431-687d-4a33-903e-3eeb39dbed6f",
   "metadata": {
    "tags": []
   },
   "outputs": [
    {
     "name": "stdout",
     "output_type": "stream",
     "text": [
      "186\n",
      "<class 'numpy.ndarray'>\n"
     ]
    }
   ],
   "source": [
    "print(len(titanic_df['Cabin'].unique()), type(titanic_df['Cabin'].unique()), sep='\\n')"
   ]
  },
  {
   "cell_type": "markdown",
   "id": "58086621-90a6-49f1-96bc-21fffa6b7d87",
   "metadata": {},
   "source": [
    "5.     Zredukuj liczbę cech dla zmiennej opisującej kabiny poprzez zastąpienie obecnych etykiet w formacie LL11 do etykiet zawierających tylko pierwszą literę. Użyj astype(str).str[pozycja]. Nową zmienną nazwij CabinReduced. Wyświetl pierwsze 20 wierszy zbioru danych dla kolumn Cabin i CabinReduced"
   ]
  },
  {
   "cell_type": "code",
   "execution_count": 10,
   "id": "e25999e6-d1a0-4819-9694-9b0998fc54da",
   "metadata": {
    "tags": []
   },
   "outputs": [
    {
     "data": {
      "text/html": [
       "<div>\n",
       "<style scoped>\n",
       "    .dataframe tbody tr th:only-of-type {\n",
       "        vertical-align: middle;\n",
       "    }\n",
       "\n",
       "    .dataframe tbody tr th {\n",
       "        vertical-align: top;\n",
       "    }\n",
       "\n",
       "    .dataframe thead th {\n",
       "        text-align: right;\n",
       "    }\n",
       "</style>\n",
       "<table border=\"1\" class=\"dataframe\">\n",
       "  <thead>\n",
       "    <tr style=\"text-align: right;\">\n",
       "      <th></th>\n",
       "      <th>Cabin</th>\n",
       "      <th>CabinReduced</th>\n",
       "    </tr>\n",
       "  </thead>\n",
       "  <tbody>\n",
       "    <tr>\n",
       "      <th>0</th>\n",
       "      <td>B5</td>\n",
       "      <td>B</td>\n",
       "    </tr>\n",
       "    <tr>\n",
       "      <th>1</th>\n",
       "      <td>C22 C26</td>\n",
       "      <td>C</td>\n",
       "    </tr>\n",
       "    <tr>\n",
       "      <th>2</th>\n",
       "      <td>C22 C26</td>\n",
       "      <td>C</td>\n",
       "    </tr>\n",
       "    <tr>\n",
       "      <th>3</th>\n",
       "      <td>C22 C26</td>\n",
       "      <td>C</td>\n",
       "    </tr>\n",
       "    <tr>\n",
       "      <th>4</th>\n",
       "      <td>C22 C26</td>\n",
       "      <td>C</td>\n",
       "    </tr>\n",
       "    <tr>\n",
       "      <th>5</th>\n",
       "      <td>E12</td>\n",
       "      <td>E</td>\n",
       "    </tr>\n",
       "    <tr>\n",
       "      <th>6</th>\n",
       "      <td>D7</td>\n",
       "      <td>D</td>\n",
       "    </tr>\n",
       "    <tr>\n",
       "      <th>7</th>\n",
       "      <td>A36</td>\n",
       "      <td>A</td>\n",
       "    </tr>\n",
       "    <tr>\n",
       "      <th>8</th>\n",
       "      <td>C101</td>\n",
       "      <td>C</td>\n",
       "    </tr>\n",
       "    <tr>\n",
       "      <th>9</th>\n",
       "      <td>NaN</td>\n",
       "      <td>n</td>\n",
       "    </tr>\n",
       "    <tr>\n",
       "      <th>10</th>\n",
       "      <td>C62 C64</td>\n",
       "      <td>C</td>\n",
       "    </tr>\n",
       "    <tr>\n",
       "      <th>11</th>\n",
       "      <td>C62 C64</td>\n",
       "      <td>C</td>\n",
       "    </tr>\n",
       "    <tr>\n",
       "      <th>12</th>\n",
       "      <td>B35</td>\n",
       "      <td>B</td>\n",
       "    </tr>\n",
       "    <tr>\n",
       "      <th>13</th>\n",
       "      <td>NaN</td>\n",
       "      <td>n</td>\n",
       "    </tr>\n",
       "    <tr>\n",
       "      <th>14</th>\n",
       "      <td>A23</td>\n",
       "      <td>A</td>\n",
       "    </tr>\n",
       "    <tr>\n",
       "      <th>15</th>\n",
       "      <td>NaN</td>\n",
       "      <td>n</td>\n",
       "    </tr>\n",
       "    <tr>\n",
       "      <th>16</th>\n",
       "      <td>B58 B60</td>\n",
       "      <td>B</td>\n",
       "    </tr>\n",
       "    <tr>\n",
       "      <th>17</th>\n",
       "      <td>B58 B60</td>\n",
       "      <td>B</td>\n",
       "    </tr>\n",
       "    <tr>\n",
       "      <th>18</th>\n",
       "      <td>D15</td>\n",
       "      <td>D</td>\n",
       "    </tr>\n",
       "    <tr>\n",
       "      <th>19</th>\n",
       "      <td>C6</td>\n",
       "      <td>C</td>\n",
       "    </tr>\n",
       "  </tbody>\n",
       "</table>\n",
       "</div>"
      ],
      "text/plain": [
       "      Cabin CabinReduced\n",
       "0        B5            B\n",
       "1   C22 C26            C\n",
       "2   C22 C26            C\n",
       "3   C22 C26            C\n",
       "4   C22 C26            C\n",
       "5       E12            E\n",
       "6        D7            D\n",
       "7       A36            A\n",
       "8      C101            C\n",
       "9       NaN            n\n",
       "10  C62 C64            C\n",
       "11  C62 C64            C\n",
       "12      B35            B\n",
       "13      NaN            n\n",
       "14      A23            A\n",
       "15      NaN            n\n",
       "16  B58 B60            B\n",
       "17  B58 B60            B\n",
       "18      D15            D\n",
       "19       C6            C"
      ]
     },
     "execution_count": 10,
     "metadata": {},
     "output_type": "execute_result"
    }
   ],
   "source": [
    "titanic_df['CabinReduced'] = titanic_df['Cabin'].astype(str).str[0]\n",
    "titanic_df[['Cabin', 'CabinReduced']].head(20)"
   ]
  },
  {
   "cell_type": "markdown",
   "id": "8530ab05-7140-4062-a58b-016da07563a5",
   "metadata": {},
   "source": [
    "6.     Wyświetl (jak w pkt 1) liczbę etykiet dla zmiennych z ptk 5. O ile procent zredukowano kardynalność zbioru zmiennej opisującej kabiny?"
   ]
  },
  {
   "cell_type": "code",
   "execution_count": 11,
   "id": "71ea8d03-ad88-4b82-8e05-1b6e23b86445",
   "metadata": {
    "tags": []
   },
   "outputs": [
    {
     "data": {
      "text/plain": [
       "'Liczba etykiet zmiennej CabinReduced = 9'"
      ]
     },
     "execution_count": 11,
     "metadata": {},
     "output_type": "execute_result"
    }
   ],
   "source": [
    "etykiety(titanic_df, 'CabinReduced')"
   ]
  },
  {
   "cell_type": "code",
   "execution_count": 12,
   "id": "5ba9b3a9-3f02-4ee3-8a03-0a00660ebcad",
   "metadata": {
    "tags": []
   },
   "outputs": [
    {
     "name": "stdout",
     "output_type": "stream",
     "text": [
      " Kardynalnosc zbioru zmiennej opisujacej kabiny zredukowano o 95.16%\n"
     ]
    }
   ],
   "source": [
    "before = len(titanic_df['Cabin'].unique())\n",
    "after = len(titanic_df['CabinReduced'].unique())\n",
    "print(f' Kardynalnosc zbioru zmiennej opisujacej kabiny zredukowano o {round((1 - after/before) * 100,2)}%')"
   ]
  },
  {
   "cell_type": "code",
   "execution_count": 13,
   "id": "5d1c05f2-034d-441d-9562-0b34aeed7677",
   "metadata": {
    "tags": []
   },
   "outputs": [],
   "source": [
    "titanic_df.to_csv('titanic_df.csv')"
   ]
  },
  {
   "cell_type": "markdown",
   "id": "1b01110e-7167-4f33-a818-a891f20c75f7",
   "metadata": {},
   "source": [
    "7.     Uzasadnij dlaczego dokonujesz redukcji akurat tej zmiennej. Jak to wpływa na przyszłe analizy. Czy powoduje jakieś negatywne skutki?\n",
    "\n",
    "Zmienna **Cabin** ma bardzo wysoką kardynalność (**187** unikalnych wartości), więc takie uszczegółowienie jej może nie być potrzebne, a nawet może być niepożądane, gdyż może negatywnie wpłynąć na potencjalną jakość przyszłego modelu. Redukcja zmiennej do tylko pierwszej litery pozwala zachować pewną różnorodność, upraszczając jednak zbiór\n"
   ]
  },
  {
   "cell_type": "code",
   "execution_count": null,
   "id": "97bf49c1-9221-4181-ada7-6cd54523c229",
   "metadata": {},
   "outputs": [],
   "source": []
  }
 ],
 "metadata": {
  "kernelspec": {
   "display_name": "Python 3 (ipykernel)",
   "language": "python",
   "name": "python3"
  },
  "language_info": {
   "codemirror_mode": {
    "name": "ipython",
    "version": 3
   },
   "file_extension": ".py",
   "mimetype": "text/x-python",
   "name": "python",
   "nbconvert_exporter": "python",
   "pygments_lexer": "ipython3",
   "version": "3.11.5"
  }
 },
 "nbformat": 4,
 "nbformat_minor": 5
}
