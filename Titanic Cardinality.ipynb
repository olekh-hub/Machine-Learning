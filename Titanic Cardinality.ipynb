{
 "cells": [
  {
   "cell_type": "code",
   "execution_count": 1,
   "id": "614a4b8e-124d-46c9-a736-93bc17e71088",
   "metadata": {},
   "outputs": [],
   "source": [
    "import pandas as pd\n",
    "import numpy as np\n",
    "import plotly.express as px\n",
    "import matplotlib.pyplot as plt\n",
    "import seaborn as sns"
   ]
  },
  {
   "cell_type": "code",
   "execution_count": 2,
   "id": "329833bb-3298-4eaa-9a62-4d4bca168861",
   "metadata": {},
   "outputs": [],
   "source": [
    "column_names = [\n",
    "                \"pclass\", \"survived\", \"name\", \"sex\", \"age\", \"sibsp\", \"parch\",\n",
    "                \"ticket\", \"fare\", \"cabin\", \"embarked\", \"boat\", \"body\", \"home.dest\"\n",
    "               ]\n",
    "df=pd.read_csv('Zbiór danych Titanic.arff.txt',skiprows=17, names=column_names)\n",
    "df=df.replace('?', np.nan)\n",
    "df['age'] = pd.to_numeric(df['age'], errors='coerce')\n",
    "df['fare'] = pd.to_numeric(df['fare'], errors='coerce')\n"
   ]
  },
  {
   "cell_type": "code",
   "execution_count": 3,
   "id": "644821f8-51f3-49fe-8530-a48b75d75915",
   "metadata": {},
   "outputs": [
    {
     "data": {
      "text/html": [
       "<div>\n",
       "<style scoped>\n",
       "    .dataframe tbody tr th:only-of-type {\n",
       "        vertical-align: middle;\n",
       "    }\n",
       "\n",
       "    .dataframe tbody tr th {\n",
       "        vertical-align: top;\n",
       "    }\n",
       "\n",
       "    .dataframe thead th {\n",
       "        text-align: right;\n",
       "    }\n",
       "</style>\n",
       "<table border=\"1\" class=\"dataframe\">\n",
       "  <thead>\n",
       "    <tr style=\"text-align: right;\">\n",
       "      <th></th>\n",
       "      <th>pclass</th>\n",
       "      <th>survived</th>\n",
       "      <th>name</th>\n",
       "      <th>sex</th>\n",
       "      <th>age</th>\n",
       "      <th>sibsp</th>\n",
       "      <th>parch</th>\n",
       "      <th>ticket</th>\n",
       "      <th>fare</th>\n",
       "      <th>cabin</th>\n",
       "      <th>embarked</th>\n",
       "      <th>boat</th>\n",
       "      <th>body</th>\n",
       "      <th>home.dest</th>\n",
       "    </tr>\n",
       "  </thead>\n",
       "  <tbody>\n",
       "    <tr>\n",
       "      <th>0</th>\n",
       "      <td>1</td>\n",
       "      <td>1</td>\n",
       "      <td>Allen, Miss. Elisabeth Walton</td>\n",
       "      <td>female</td>\n",
       "      <td>29.0000</td>\n",
       "      <td>0</td>\n",
       "      <td>0</td>\n",
       "      <td>24160</td>\n",
       "      <td>211.3375</td>\n",
       "      <td>B5</td>\n",
       "      <td>S</td>\n",
       "      <td>2</td>\n",
       "      <td>NaN</td>\n",
       "      <td>St Louis, MO</td>\n",
       "    </tr>\n",
       "    <tr>\n",
       "      <th>1</th>\n",
       "      <td>1</td>\n",
       "      <td>1</td>\n",
       "      <td>Allison, Master. Hudson Trevor</td>\n",
       "      <td>male</td>\n",
       "      <td>0.9167</td>\n",
       "      <td>1</td>\n",
       "      <td>2</td>\n",
       "      <td>113781</td>\n",
       "      <td>151.5500</td>\n",
       "      <td>C22 C26</td>\n",
       "      <td>S</td>\n",
       "      <td>11</td>\n",
       "      <td>NaN</td>\n",
       "      <td>Montreal, PQ / Chesterville, ON</td>\n",
       "    </tr>\n",
       "    <tr>\n",
       "      <th>2</th>\n",
       "      <td>1</td>\n",
       "      <td>0</td>\n",
       "      <td>Allison, Miss. Helen Loraine</td>\n",
       "      <td>female</td>\n",
       "      <td>2.0000</td>\n",
       "      <td>1</td>\n",
       "      <td>2</td>\n",
       "      <td>113781</td>\n",
       "      <td>151.5500</td>\n",
       "      <td>C22 C26</td>\n",
       "      <td>S</td>\n",
       "      <td>NaN</td>\n",
       "      <td>NaN</td>\n",
       "      <td>Montreal, PQ / Chesterville, ON</td>\n",
       "    </tr>\n",
       "    <tr>\n",
       "      <th>3</th>\n",
       "      <td>1</td>\n",
       "      <td>0</td>\n",
       "      <td>Allison, Mr. Hudson Joshua Creighton</td>\n",
       "      <td>male</td>\n",
       "      <td>30.0000</td>\n",
       "      <td>1</td>\n",
       "      <td>2</td>\n",
       "      <td>113781</td>\n",
       "      <td>151.5500</td>\n",
       "      <td>C22 C26</td>\n",
       "      <td>S</td>\n",
       "      <td>NaN</td>\n",
       "      <td>135</td>\n",
       "      <td>Montreal, PQ / Chesterville, ON</td>\n",
       "    </tr>\n",
       "    <tr>\n",
       "      <th>4</th>\n",
       "      <td>1</td>\n",
       "      <td>0</td>\n",
       "      <td>Allison, Mrs. Hudson J C (Bessie Waldo Daniels)</td>\n",
       "      <td>female</td>\n",
       "      <td>25.0000</td>\n",
       "      <td>1</td>\n",
       "      <td>2</td>\n",
       "      <td>113781</td>\n",
       "      <td>151.5500</td>\n",
       "      <td>C22 C26</td>\n",
       "      <td>S</td>\n",
       "      <td>NaN</td>\n",
       "      <td>NaN</td>\n",
       "      <td>Montreal, PQ / Chesterville, ON</td>\n",
       "    </tr>\n",
       "    <tr>\n",
       "      <th>...</th>\n",
       "      <td>...</td>\n",
       "      <td>...</td>\n",
       "      <td>...</td>\n",
       "      <td>...</td>\n",
       "      <td>...</td>\n",
       "      <td>...</td>\n",
       "      <td>...</td>\n",
       "      <td>...</td>\n",
       "      <td>...</td>\n",
       "      <td>...</td>\n",
       "      <td>...</td>\n",
       "      <td>...</td>\n",
       "      <td>...</td>\n",
       "      <td>...</td>\n",
       "    </tr>\n",
       "    <tr>\n",
       "      <th>1304</th>\n",
       "      <td>3</td>\n",
       "      <td>0</td>\n",
       "      <td>Zabour, Miss. Hileni</td>\n",
       "      <td>female</td>\n",
       "      <td>14.5000</td>\n",
       "      <td>1</td>\n",
       "      <td>0</td>\n",
       "      <td>2665</td>\n",
       "      <td>14.4542</td>\n",
       "      <td>NaN</td>\n",
       "      <td>C</td>\n",
       "      <td>NaN</td>\n",
       "      <td>328</td>\n",
       "      <td>NaN</td>\n",
       "    </tr>\n",
       "    <tr>\n",
       "      <th>1305</th>\n",
       "      <td>3</td>\n",
       "      <td>0</td>\n",
       "      <td>Zabour, Miss. Thamine</td>\n",
       "      <td>female</td>\n",
       "      <td>NaN</td>\n",
       "      <td>1</td>\n",
       "      <td>0</td>\n",
       "      <td>2665</td>\n",
       "      <td>14.4542</td>\n",
       "      <td>NaN</td>\n",
       "      <td>C</td>\n",
       "      <td>NaN</td>\n",
       "      <td>NaN</td>\n",
       "      <td>NaN</td>\n",
       "    </tr>\n",
       "    <tr>\n",
       "      <th>1306</th>\n",
       "      <td>3</td>\n",
       "      <td>0</td>\n",
       "      <td>Zakarian, Mr. Mapriededer</td>\n",
       "      <td>male</td>\n",
       "      <td>26.5000</td>\n",
       "      <td>0</td>\n",
       "      <td>0</td>\n",
       "      <td>2656</td>\n",
       "      <td>7.2250</td>\n",
       "      <td>NaN</td>\n",
       "      <td>C</td>\n",
       "      <td>NaN</td>\n",
       "      <td>304</td>\n",
       "      <td>NaN</td>\n",
       "    </tr>\n",
       "    <tr>\n",
       "      <th>1307</th>\n",
       "      <td>3</td>\n",
       "      <td>0</td>\n",
       "      <td>Zakarian, Mr. Ortin</td>\n",
       "      <td>male</td>\n",
       "      <td>27.0000</td>\n",
       "      <td>0</td>\n",
       "      <td>0</td>\n",
       "      <td>2670</td>\n",
       "      <td>7.2250</td>\n",
       "      <td>NaN</td>\n",
       "      <td>C</td>\n",
       "      <td>NaN</td>\n",
       "      <td>NaN</td>\n",
       "      <td>NaN</td>\n",
       "    </tr>\n",
       "    <tr>\n",
       "      <th>1308</th>\n",
       "      <td>3</td>\n",
       "      <td>0</td>\n",
       "      <td>Zimmerman, Mr. Leo</td>\n",
       "      <td>male</td>\n",
       "      <td>29.0000</td>\n",
       "      <td>0</td>\n",
       "      <td>0</td>\n",
       "      <td>315082</td>\n",
       "      <td>7.8750</td>\n",
       "      <td>NaN</td>\n",
       "      <td>S</td>\n",
       "      <td>NaN</td>\n",
       "      <td>NaN</td>\n",
       "      <td>NaN</td>\n",
       "    </tr>\n",
       "  </tbody>\n",
       "</table>\n",
       "<p>1309 rows × 14 columns</p>\n",
       "</div>"
      ],
      "text/plain": [
       "      pclass  survived                                             name  \\\n",
       "0          1         1                    Allen, Miss. Elisabeth Walton   \n",
       "1          1         1                   Allison, Master. Hudson Trevor   \n",
       "2          1         0                     Allison, Miss. Helen Loraine   \n",
       "3          1         0             Allison, Mr. Hudson Joshua Creighton   \n",
       "4          1         0  Allison, Mrs. Hudson J C (Bessie Waldo Daniels)   \n",
       "...      ...       ...                                              ...   \n",
       "1304       3         0                             Zabour, Miss. Hileni   \n",
       "1305       3         0                            Zabour, Miss. Thamine   \n",
       "1306       3         0                        Zakarian, Mr. Mapriededer   \n",
       "1307       3         0                              Zakarian, Mr. Ortin   \n",
       "1308       3         0                               Zimmerman, Mr. Leo   \n",
       "\n",
       "         sex      age  sibsp  parch  ticket      fare    cabin embarked boat  \\\n",
       "0     female  29.0000      0      0   24160  211.3375       B5        S    2   \n",
       "1       male   0.9167      1      2  113781  151.5500  C22 C26        S   11   \n",
       "2     female   2.0000      1      2  113781  151.5500  C22 C26        S  NaN   \n",
       "3       male  30.0000      1      2  113781  151.5500  C22 C26        S  NaN   \n",
       "4     female  25.0000      1      2  113781  151.5500  C22 C26        S  NaN   \n",
       "...      ...      ...    ...    ...     ...       ...      ...      ...  ...   \n",
       "1304  female  14.5000      1      0    2665   14.4542      NaN        C  NaN   \n",
       "1305  female      NaN      1      0    2665   14.4542      NaN        C  NaN   \n",
       "1306    male  26.5000      0      0    2656    7.2250      NaN        C  NaN   \n",
       "1307    male  27.0000      0      0    2670    7.2250      NaN        C  NaN   \n",
       "1308    male  29.0000      0      0  315082    7.8750      NaN        S  NaN   \n",
       "\n",
       "     body                        home.dest  \n",
       "0     NaN                     St Louis, MO  \n",
       "1     NaN  Montreal, PQ / Chesterville, ON  \n",
       "2     NaN  Montreal, PQ / Chesterville, ON  \n",
       "3     135  Montreal, PQ / Chesterville, ON  \n",
       "4     NaN  Montreal, PQ / Chesterville, ON  \n",
       "...   ...                              ...  \n",
       "1304  328                              NaN  \n",
       "1305  NaN                              NaN  \n",
       "1306  304                              NaN  \n",
       "1307  NaN                              NaN  \n",
       "1308  NaN                              NaN  \n",
       "\n",
       "[1309 rows x 14 columns]"
      ]
     },
     "execution_count": 3,
     "metadata": {},
     "output_type": "execute_result"
    }
   ],
   "source": [
    "df"
   ]
  },
  {
   "cell_type": "code",
   "execution_count": 4,
   "id": "ba177532-3dec-46e5-9c0e-ffffa0d558d2",
   "metadata": {},
   "outputs": [
    {
     "data": {
      "text/plain": [
       "pclass          3\n",
       "survived        2\n",
       "name         1307\n",
       "sex             2\n",
       "age            98\n",
       "sibsp           7\n",
       "parch           8\n",
       "ticket        929\n",
       "fare          281\n",
       "cabin         186\n",
       "embarked        3\n",
       "boat           27\n",
       "body          121\n",
       "home.dest     369\n",
       "dtype: int64"
      ]
     },
     "execution_count": 4,
     "metadata": {},
     "output_type": "execute_result"
    }
   ],
   "source": [
    "df.nunique()"
   ]
  },
  {
   "cell_type": "markdown",
   "id": "4cb16179-94e3-4afb-b8c2-79463596edd9",
   "metadata": {},
   "source": [
    "1. Sprawdź liczebność poszczególnych etykiet dla danych zmiennych jakościowych"
   ]
  },
  {
   "cell_type": "code",
   "execution_count": 15,
   "id": "4338be62-b062-461d-9dde-6b9074453af6",
   "metadata": {},
   "outputs": [
    {
     "name": "stdout",
     "output_type": "stream",
     "text": [
      "Liczba etykiet zmiennej pclass: 3\n",
      "Liczba etykiet zmiennej survived: 2\n",
      "Liczba etykiet zmiennej name: 1307\n",
      "Liczba etykiet zmiennej sex: 2\n",
      "Liczba etykiet zmiennej age: 99\n",
      "Liczba etykiet zmiennej sibsp: 7\n",
      "Liczba etykiet zmiennej parch: 8\n",
      "Liczba etykiet zmiennej ticket: 929\n",
      "Liczba etykiet zmiennej fare: 282\n",
      "Liczba etykiet zmiennej cabin: 187\n",
      "Liczba etykiet zmiennej embarked: 4\n",
      "Liczba etykiet zmiennej boat: 28\n",
      "Liczba etykiet zmiennej body: 122\n",
      "Liczba etykiet zmiennej home.dest: 370\n"
     ]
    }
   ],
   "source": [
    "etykiety={}\n",
    "mean_len_cols=0\n",
    "for column in df.columns:\n",
    "    print(f'Liczba etykiet zmiennej {column}: {len(df[column].unique())}')\n",
    "    etykiety[column]=len(df[column].unique())\n",
    "    mean_len_cols+=len(df[column].unique())\n",
    "mean_len_cols/=14"
   ]
  },
  {
   "cell_type": "markdown",
   "id": "dfed6830-3143-4a93-898a-d6b1ef78ba87",
   "metadata": {},
   "source": [
    "2.     Wyświetl z użyciem funkcji print liczbę wszystkich pasażerów. Wykorzystaj podobny sposób jak w ptk 1."
   ]
  },
  {
   "cell_type": "code",
   "execution_count": 16,
   "id": "35e58196-b84b-4c4c-8fc8-7c17ea229219",
   "metadata": {},
   "outputs": [
    {
     "name": "stdout",
     "output_type": "stream",
     "text": [
      "1309\n"
     ]
    }
   ],
   "source": [
    "print(len(df.index.unique()))"
   ]
  },
  {
   "cell_type": "code",
   "execution_count": 23,
   "id": "7bbbdb04-5230-4aac-a27d-3f54661cbb83",
   "metadata": {},
   "outputs": [
    {
     "data": {
      "text/plain": [
       "27"
      ]
     },
     "execution_count": 23,
     "metadata": {},
     "output_type": "execute_result"
    }
   ],
   "source": [
    "df['boat'].nunique()"
   ]
  },
  {
   "cell_type": "markdown",
   "id": "03cbddc7-a1ee-43b3-891d-8bea6db2c91a",
   "metadata": {},
   "source": [
    "3.     Skomentuj wyniki otrzymane w punkcie 1 i 2. Podziel zmienne ze względu na dużą i małą moc zbioru (kardynalność)."
   ]
  },
  {
   "cell_type": "code",
   "execution_count": 19,
   "id": "0f997a72-b103-4542-b5b3-5e6630962c02",
   "metadata": {},
   "outputs": [
    {
     "data": {
      "image/png": "[encoded data removed]",
      "text/plain": [
       "<Figure size 1200x600 with 1 Axes>"
      ]
     },
     "metadata": {},
     "output_type": "display_data"
    }
   ],
   "source": [
    "plt.figure(figsize=(12, 6))\n",
    "plt.bar(etykiety.keys(), etykiety.values(), color='skyblue')\n",
    "plt.xticks(rotation=45)\n",
    "plt.ylabel('Liczba unikalnych wartości')\n",
    "plt.title('Liczba unikalnych wartości w kolumnach')\n",
    "plt.axhline(mean_len_cols, color='red')\n",
    "plt.axhline(len(df.index.unique())/2, color='green')\n",
    "plt.tight_layout()\n",
    "plt.show()"
   ]
  },
  {
   "cell_type": "markdown",
   "id": "309e333d-58d2-4b9f-8db6-a01f83bed4a2",
   "metadata": {},
   "source": [
    "Czerwona linia symbolizuje średnią ilość wartości unikalnych ze wszystkich kolumn. Zielona linia to połowa wszystkich kolumn. Do zbioru o małej kardynalności napewno zaliczyłbym te zmienne, które znajdują się pod obiema poziomymi liniami: age, sibsp, parch, cabin, body, boat. Do zbioru o dużej kardynalności zaliczyłbym zmienne przekraczające linię zieloną (name, ticket). Zmenne będące pomiędzy tymi liniami zaklasyfikowałbym jako zbiory o średniej kardynalności (home.dest, fare),"
   ]
  },
  {
   "cell_type": "markdown",
   "id": "c2025fcc-eae6-4a97-82d0-608c63168716",
   "metadata": {},
   "source": [
    "4. Sprawdź, ile unikalnych etykiet ma zmienna mówiąca o kabinie danego pasażera. Użyj takiej funkcji, która zwraca wynik w postaci NumPy array."
   ]
  },
  {
   "cell_type": "code",
   "execution_count": 27,
   "id": "355ab7b3-080a-4b78-a161-55244193b292",
   "metadata": {},
   "outputs": [
    {
     "name": "stdout",
     "output_type": "stream",
     "text": [
      "<class 'numpy.ndarray'>\n",
      "186\n"
     ]
    }
   ],
   "source": [
    "unique_cabins = df['cabin'].dropna().unique() \n",
    "print(type(unique_cabins))\n",
    "print(len(unique_cabins))"
   ]
  },
  {
   "cell_type": "markdown",
   "id": "2e1ab5e0-934d-4822-b6b6-de0e3a05cd38",
   "metadata": {},
   "source": [
    "5.     Zredukuj liczbę cech dla zmiennej opisującej kabiny poprzez zastąpienie obecnych etykiet w formacie LL11 do etykiet zawierających tylko pierwszą literę. Użyj astype(str).str[pozycja]. Nową zmienną nazwij CabinReduced. Wyświetl pierwsze 20 wierszy zbioru danych dla kolumn Cabin i CabinReduced"
   ]
  },
  {
   "cell_type": "code",
   "execution_count": 29,
   "id": "fc2900fd-2b7a-4692-b3f9-4f61fe39e5fc",
   "metadata": {},
   "outputs": [
    {
     "name": "stdout",
     "output_type": "stream",
     "text": [
      "      cabin CabinReduced\n",
      "0        B5            B\n",
      "1   C22 C26            C\n",
      "2   C22 C26            C\n",
      "3   C22 C26            C\n",
      "4   C22 C26            C\n",
      "5       E12            E\n",
      "6        D7            D\n",
      "7       A36            A\n",
      "8      C101            C\n",
      "9       NaN            n\n",
      "10  C62 C64            C\n",
      "11  C62 C64            C\n",
      "12      B35            B\n",
      "13      NaN            n\n",
      "14      A23            A\n",
      "15      NaN            n\n",
      "16  B58 B60            B\n",
      "17  B58 B60            B\n",
      "18      D15            D\n",
      "19       C6            C\n"
     ]
    }
   ],
   "source": [
    "df['CabinReduced'] = df['cabin'].astype(str).str[0]\n",
    "print(df[['cabin', 'CabinReduced']].head(20))"
   ]
  },
  {
   "cell_type": "markdown",
   "id": "8813ea7b-3a06-4b57-a882-494c0c9909f5",
   "metadata": {},
   "source": [
    "6.     Wyświetl (jak w pkt 1) liczbę etykiet dla zmiennych z ptk 5. O ile procent zredukowano kardynalność zbioru zmiennej opisującej kabiny?"
   ]
  },
  {
   "cell_type": "code",
   "execution_count": 31,
   "id": "946284a6-1559-4070-86d1-3bcc5f811a9e",
   "metadata": {},
   "outputs": [
    {
     "name": "stdout",
     "output_type": "stream",
     "text": [
      "liczba zmiennych dla cabin: 187\n",
      "liczba zmiennych dla CabinReduced: 9\n"
     ]
    }
   ],
   "source": [
    "print(f'liczba zmiennych dla cabin: {len(df['cabin'].unique())}')\n",
    "print(f'liczba zmiennych dla CabinReduced: {len(df['CabinReduced'].unique())}')"
   ]
  },
  {
   "cell_type": "markdown",
   "id": "feb9a8b5-624c-4ab0-b765-0eb893b7edbc",
   "metadata": {},
   "source": [
    "7.     Uzasadnij dlaczego dokonujesz redukcji akurat tej zmiennej. Jak to wpływa na przyszłe analizy. Czy powoduje jakieś negatywne skutki?"
   ]
  },
  {
   "cell_type": "markdown",
   "id": "c7640aa3-fbdb-43c5-89c5-dd8b7ad6f346",
   "metadata": {},
   "source": [
    "Oryginalna zmienna cabin to kombinacja litery i cyfr. Litera symbolizuje poziom pokładu na którym znajduję się dana kabina. Każda taka kombinacja stanowi nową kategorię danych, co może prowadzić do za dużego zróżnicowania cech. To z kolei może negatywnie wpływać na modele ML i analizę grup. Redukcja do jednej litery pozwala zachować informację o pokładzie tym samym redukując nadmierność ilości cech. W przyszłej analizie, będzie nam prościej skategoryzować dane i zwiększyć czytelność na przykład na wykresach. Wpłynie to tez na lepsze działanie modeli ML. Minusy są takie, że tracimy informację o szczegółowości położenia kabiny na pokładzie. Kabiny C1 i C88 będą uważane za tą samą kategorię, a jednak mogą znajdować się po dwóch różnych stronach statku."
   ]
  },
  {
   "cell_type": "code",
   "execution_count": null,
   "id": "49cc58b3-3b84-4192-a951-a44582df5cf4",
   "metadata": {},
   "outputs": [],
   "source": []
  }
 ],
 "metadata": {
  "kernelspec": {
   "display_name": "Python 3 (ipykernel)",
   "language": "python",
   "name": "python3"
  },
  "language_info": {
   "codemirror_mode": {
    "name": "ipython",
    "version": 3
   },
   "file_extension": ".py",
   "mimetype": "text/x-python",
   "name": "python",
   "nbconvert_exporter": "python",
   "pygments_lexer": "ipython3",
   "version": "3.11.5"
  }
 },
 "nbformat": 4,
 "nbformat_minor": 5
}
