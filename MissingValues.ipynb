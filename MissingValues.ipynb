{
 "cells": [
  {
   "cell_type": "markdown",
   "metadata": {},
   "source": [
    "# Analiza wartości brakujących w zbiorze danych titanic"
   ]
  },
  {
   "cell_type": "code",
   "execution_count": 1,
   "metadata": {},
   "outputs": [],
   "source": [
    "import warnings\n",
    "warnings.filterwarnings('ignore')\n",
    "import numpy as np\n",
    "import pandas as pd\n",
    "import matplotlib.pyplot as plt\n",
    "import seaborn as sns"
   ]
  },
  {
   "cell_type": "code",
   "execution_count": 2,
   "metadata": {},
   "outputs": [
    {
     "data": {
      "text/html": [
       "<div>\n",
       "<style scoped>\n",
       "    .dataframe tbody tr th:only-of-type {\n",
       "        vertical-align: middle;\n",
       "    }\n",
       "\n",
       "    .dataframe tbody tr th {\n",
       "        vertical-align: top;\n",
       "    }\n",
       "\n",
       "    .dataframe thead th {\n",
       "        text-align: right;\n",
       "    }\n",
       "</style>\n",
       "<table border=\"1\" class=\"dataframe\">\n",
       "  <thead>\n",
       "    <tr style=\"text-align: right;\">\n",
       "      <th></th>\n",
       "      <th>Pclass</th>\n",
       "      <th>Survived</th>\n",
       "      <th>Name</th>\n",
       "      <th>Sex</th>\n",
       "      <th>Age</th>\n",
       "      <th>SibSp</th>\n",
       "      <th>Parch</th>\n",
       "      <th>Ticket</th>\n",
       "      <th>Fare</th>\n",
       "      <th>Cabin</th>\n",
       "      <th>Embarked</th>\n",
       "      <th>Boat</th>\n",
       "      <th>Body</th>\n",
       "      <th>Home Destination</th>\n",
       "    </tr>\n",
       "    <tr>\n",
       "      <th>PassengerId</th>\n",
       "      <th></th>\n",
       "      <th></th>\n",
       "      <th></th>\n",
       "      <th></th>\n",
       "      <th></th>\n",
       "      <th></th>\n",
       "      <th></th>\n",
       "      <th></th>\n",
       "      <th></th>\n",
       "      <th></th>\n",
       "      <th></th>\n",
       "      <th></th>\n",
       "      <th></th>\n",
       "      <th></th>\n",
       "    </tr>\n",
       "  </thead>\n",
       "  <tbody>\n",
       "    <tr>\n",
       "      <th>0</th>\n",
       "      <td>1</td>\n",
       "      <td>1</td>\n",
       "      <td>Allen, Miss. Elisabeth Walton</td>\n",
       "      <td>female</td>\n",
       "      <td>29.0000</td>\n",
       "      <td>0</td>\n",
       "      <td>0</td>\n",
       "      <td>24160</td>\n",
       "      <td>211.3375</td>\n",
       "      <td>B5</td>\n",
       "      <td>S</td>\n",
       "      <td>2</td>\n",
       "      <td>NaN</td>\n",
       "      <td>St Louis, MO</td>\n",
       "    </tr>\n",
       "    <tr>\n",
       "      <th>1</th>\n",
       "      <td>1</td>\n",
       "      <td>1</td>\n",
       "      <td>Allison, Master. Hudson Trevor</td>\n",
       "      <td>male</td>\n",
       "      <td>0.9167</td>\n",
       "      <td>1</td>\n",
       "      <td>2</td>\n",
       "      <td>113781</td>\n",
       "      <td>151.5500</td>\n",
       "      <td>C22 C26</td>\n",
       "      <td>S</td>\n",
       "      <td>11</td>\n",
       "      <td>NaN</td>\n",
       "      <td>Montreal, PQ / Chesterville, ON</td>\n",
       "    </tr>\n",
       "    <tr>\n",
       "      <th>2</th>\n",
       "      <td>1</td>\n",
       "      <td>0</td>\n",
       "      <td>Allison, Miss. Helen Loraine</td>\n",
       "      <td>female</td>\n",
       "      <td>2.0000</td>\n",
       "      <td>1</td>\n",
       "      <td>2</td>\n",
       "      <td>113781</td>\n",
       "      <td>151.5500</td>\n",
       "      <td>C22 C26</td>\n",
       "      <td>S</td>\n",
       "      <td>NaN</td>\n",
       "      <td>NaN</td>\n",
       "      <td>Montreal, PQ / Chesterville, ON</td>\n",
       "    </tr>\n",
       "    <tr>\n",
       "      <th>3</th>\n",
       "      <td>1</td>\n",
       "      <td>0</td>\n",
       "      <td>Allison, Mr. Hudson Joshua Creighton</td>\n",
       "      <td>male</td>\n",
       "      <td>30.0000</td>\n",
       "      <td>1</td>\n",
       "      <td>2</td>\n",
       "      <td>113781</td>\n",
       "      <td>151.5500</td>\n",
       "      <td>C22 C26</td>\n",
       "      <td>S</td>\n",
       "      <td>NaN</td>\n",
       "      <td>135.0</td>\n",
       "      <td>Montreal, PQ / Chesterville, ON</td>\n",
       "    </tr>\n",
       "    <tr>\n",
       "      <th>4</th>\n",
       "      <td>1</td>\n",
       "      <td>0</td>\n",
       "      <td>Allison, Mrs. Hudson J C (Bessie Waldo Daniels)</td>\n",
       "      <td>female</td>\n",
       "      <td>25.0000</td>\n",
       "      <td>1</td>\n",
       "      <td>2</td>\n",
       "      <td>113781</td>\n",
       "      <td>151.5500</td>\n",
       "      <td>C22 C26</td>\n",
       "      <td>S</td>\n",
       "      <td>NaN</td>\n",
       "      <td>NaN</td>\n",
       "      <td>Montreal, PQ / Chesterville, ON</td>\n",
       "    </tr>\n",
       "  </tbody>\n",
       "</table>\n",
       "</div>"
      ],
      "text/plain": [
       "             Pclass  Survived  \\\n",
       "PassengerId                     \n",
       "0                 1         1   \n",
       "1                 1         1   \n",
       "2                 1         0   \n",
       "3                 1         0   \n",
       "4                 1         0   \n",
       "\n",
       "                                                        Name     Sex      Age  \\\n",
       "PassengerId                                                                     \n",
       "0                              Allen, Miss. Elisabeth Walton  female  29.0000   \n",
       "1                             Allison, Master. Hudson Trevor    male   0.9167   \n",
       "2                               Allison, Miss. Helen Loraine  female   2.0000   \n",
       "3                       Allison, Mr. Hudson Joshua Creighton    male  30.0000   \n",
       "4            Allison, Mrs. Hudson J C (Bessie Waldo Daniels)  female  25.0000   \n",
       "\n",
       "             SibSp  Parch  Ticket      Fare    Cabin Embarked Boat   Body  \\\n",
       "PassengerId                                                                 \n",
       "0                0      0   24160  211.3375       B5        S    2    NaN   \n",
       "1                1      2  113781  151.5500  C22 C26        S   11    NaN   \n",
       "2                1      2  113781  151.5500  C22 C26        S  NaN    NaN   \n",
       "3                1      2  113781  151.5500  C22 C26        S  NaN  135.0   \n",
       "4                1      2  113781  151.5500  C22 C26        S  NaN    NaN   \n",
       "\n",
       "                            Home Destination  \n",
       "PassengerId                                   \n",
       "0                               St Louis, MO  \n",
       "1            Montreal, PQ / Chesterville, ON  \n",
       "2            Montreal, PQ / Chesterville, ON  \n",
       "3            Montreal, PQ / Chesterville, ON  \n",
       "4            Montreal, PQ / Chesterville, ON  "
      ]
     },
     "execution_count": 2,
     "metadata": {},
     "output_type": "execute_result"
    }
   ],
   "source": [
    "titanic_df = pd.read_csv('../Zbiór danych Titanic.arff.txt', header=None, skiprows=17, na_values='?', sep=',')\n",
    "colnames = ['Pclass', 'Survived', 'Name', 'Sex', 'Age', 'SibSp', 'Parch', 'Ticket', 'Fare', 'Cabin', 'Embarked', 'Boat', 'Body', 'Home Destination']\n",
    "titanic_df.columns = colnames\n",
    "titanic_df.index.name = 'PassengerId'\n",
    "titanic_df.head()"
   ]
  },
  {
   "cell_type": "markdown",
   "metadata": {},
   "source": [
    "Mamy 14 cech w zbiorze: <br>\n",
    "- Pclass: Nr klasy <br>\n",
    "- Survived: Czy osoba przeżyła <br>\n",
    "- Name: Imię i nazwisko <br>\n",
    "- Sex: Płeć <br>\n",
    "- Age: Wiek <br>\n",
    "- SibSp: Liczba rodzeństwa/małżonków na pokładzie <br>\n",
    "- Parch: Liczba rodziców/dzieci na pokładzie <br>\n",
    "- Ticket: Nr biletu <br>\n",
    "- Fare: Cena za bilet <br>\n",
    "- Cabin: Id kabiny <br>\n",
    "- Embarked: Gdzie osoba wsiadła <br>\n",
    "- Boad: Nr łodzi ratunkowej, do której wsiadła <br>\n",
    "- Body: Nr znalezionego ciała <br>\n",
    "- Home Destination: Destynacja <br>"
   ]
  },
  {
   "cell_type": "code",
   "execution_count": 3,
   "metadata": {},
   "outputs": [
    {
     "name": "stdout",
     "output_type": "stream",
     "text": [
      "<class 'pandas.core.frame.DataFrame'>\n",
      "RangeIndex: 1309 entries, 0 to 1308\n",
      "Data columns (total 14 columns):\n",
      " #   Column            Non-Null Count  Dtype  \n",
      "---  ------            --------------  -----  \n",
      " 0   Pclass            1309 non-null   int64  \n",
      " 1   Survived          1309 non-null   int64  \n",
      " 2   Name              1309 non-null   object \n",
      " 3   Sex               1309 non-null   object \n",
      " 4   Age               1046 non-null   float64\n",
      " 5   SibSp             1309 non-null   int64  \n",
      " 6   Parch             1309 non-null   int64  \n",
      " 7   Ticket            1309 non-null   object \n",
      " 8   Fare              1308 non-null   float64\n",
      " 9   Cabin             295 non-null    object \n",
      " 10  Embarked          1307 non-null   object \n",
      " 11  Boat              486 non-null    object \n",
      " 12  Body              121 non-null    float64\n",
      " 13  Home Destination  745 non-null    object \n",
      "dtypes: float64(3), int64(4), object(7)\n",
      "memory usage: 143.3+ KB\n"
     ]
    }
   ],
   "source": [
    "titanic_df.info()"
   ]
  },
  {
   "cell_type": "markdown",
   "metadata": {},
   "source": [
    "**Ile jest wierszy z wartościami brakującymi w poszczególnych kolumnach**"
   ]
  },
  {
   "cell_type": "code",
   "execution_count": 4,
   "metadata": {},
   "outputs": [
    {
     "data": {
      "text/plain": [
       "Pclass                 0\n",
       "Survived               0\n",
       "Name                   0\n",
       "Sex                    0\n",
       "Age                  263\n",
       "SibSp                  0\n",
       "Parch                  0\n",
       "Ticket                 0\n",
       "Fare                   1\n",
       "Cabin               1014\n",
       "Embarked               2\n",
       "Boat                 823\n",
       "Body                1188\n",
       "Home Destination     564\n",
       "dtype: int64"
      ]
     },
     "execution_count": 4,
     "metadata": {},
     "output_type": "execute_result"
    }
   ],
   "source": [
    "titanic_df.isnull().sum()"
   ]
  },
  {
   "cell_type": "markdown",
   "metadata": {},
   "source": [
    "**Jaką część całkowitej ilości wierszy stanowią brakujące wartości**"
   ]
  },
  {
   "cell_type": "code",
   "execution_count": 5,
   "metadata": {},
   "outputs": [
    {
     "data": {
      "text/plain": [
       "Pclass              0.000000\n",
       "Survived            0.000000\n",
       "Name                0.000000\n",
       "Sex                 0.000000\n",
       "Age                 0.200917\n",
       "SibSp               0.000000\n",
       "Parch               0.000000\n",
       "Ticket              0.000000\n",
       "Fare                0.000764\n",
       "Cabin               0.774637\n",
       "Embarked            0.001528\n",
       "Boat                0.628724\n",
       "Body                0.907563\n",
       "Home Destination    0.430863\n",
       "dtype: float64"
      ]
     },
     "execution_count": 5,
     "metadata": {},
     "output_type": "execute_result"
    }
   ],
   "source": [
    "titanic_df.isnull().mean()"
   ]
  },
  {
   "cell_type": "markdown",
   "metadata": {},
   "source": [
    "Można zauważyć, że kolumny **Fare, Embarked** mają mniej niż 5% brakujących wartości, więc można po prostu usunąć wiersze z wartościami brakującymi. Nad resztą trzeba się zastanowić\n"
   ]
  },
  {
   "cell_type": "code",
   "execution_count": 6,
   "metadata": {},
   "outputs": [
    {
     "data": {
      "image/png": "[encoded data removed]",
      "text/plain": [
       "<Figure size 1400x800 with 2 Axes>"
      ]
     },
     "metadata": {},
     "output_type": "display_data"
    }
   ],
   "source": [
    "fig = plt.figure(figsize=(14,8))\n",
    "sns.heatmap(titanic_df.isnull(), yticklabels=False)\n",
    "fig.show()"
   ]
  },
  {
   "cell_type": "code",
   "execution_count": 7,
   "metadata": {},
   "outputs": [],
   "source": [
    "def add_null_column(df, column):\n",
    "    df[f'{column}Null'] = np.where(df[column].isnull(), 1, 0)"
   ]
  },
  {
   "cell_type": "code",
   "execution_count": 8,
   "metadata": {},
   "outputs": [],
   "source": [
    "nulls_cols = list(titanic_df.columns[titanic_df.isnull().sum() > 0])\n",
    "for column in nulls_cols:\n",
    "    add_null_column(titanic_df, column)"
   ]
  },
  {
   "cell_type": "code",
   "execution_count": 9,
   "metadata": {},
   "outputs": [
    {
     "data": {
      "text/html": [
       "<div>\n",
       "<style scoped>\n",
       "    .dataframe tbody tr th:only-of-type {\n",
       "        vertical-align: middle;\n",
       "    }\n",
       "\n",
       "    .dataframe tbody tr th {\n",
       "        vertical-align: top;\n",
       "    }\n",
       "\n",
       "    .dataframe thead th {\n",
       "        text-align: right;\n",
       "    }\n",
       "</style>\n",
       "<table border=\"1\" class=\"dataframe\">\n",
       "  <thead>\n",
       "    <tr style=\"text-align: right;\">\n",
       "      <th></th>\n",
       "      <th>Age</th>\n",
       "      <th>Fare</th>\n",
       "      <th>Cabin</th>\n",
       "      <th>Embarked</th>\n",
       "      <th>Boat</th>\n",
       "      <th>Body</th>\n",
       "      <th>Home Destination</th>\n",
       "    </tr>\n",
       "    <tr>\n",
       "      <th>Survived</th>\n",
       "      <th></th>\n",
       "      <th></th>\n",
       "      <th></th>\n",
       "      <th></th>\n",
       "      <th></th>\n",
       "      <th></th>\n",
       "      <th></th>\n",
       "    </tr>\n",
       "  </thead>\n",
       "  <tbody>\n",
       "    <tr>\n",
       "      <th>0</th>\n",
       "      <td>0.234858</td>\n",
       "      <td>0.001236</td>\n",
       "      <td>0.873918</td>\n",
       "      <td>0.000</td>\n",
       "      <td>0.988875</td>\n",
       "      <td>0.850433</td>\n",
       "      <td>0.508035</td>\n",
       "    </tr>\n",
       "    <tr>\n",
       "      <th>1</th>\n",
       "      <td>0.146000</td>\n",
       "      <td>0.000000</td>\n",
       "      <td>0.614000</td>\n",
       "      <td>0.004</td>\n",
       "      <td>0.046000</td>\n",
       "      <td>1.000000</td>\n",
       "      <td>0.306000</td>\n",
       "    </tr>\n",
       "  </tbody>\n",
       "</table>\n",
       "</div>"
      ],
      "text/plain": [
       "               Age      Fare     Cabin  Embarked      Boat      Body  \\\n",
       "Survived                                                               \n",
       "0         0.234858  0.001236  0.873918     0.000  0.988875  0.850433   \n",
       "1         0.146000  0.000000  0.614000     0.004  0.046000  1.000000   \n",
       "\n",
       "          Home Destination  \n",
       "Survived                    \n",
       "0                 0.508035  \n",
       "1                 0.306000  "
      ]
     },
     "execution_count": 9,
     "metadata": {},
     "output_type": "execute_result"
    }
   ],
   "source": [
    "groupby_df = pd.DataFrame()\n",
    "for column in nulls_cols:\n",
    "    groupby_df[column] = titanic_df.groupby(['Survived'])[f'{column}Null'].mean()\n",
    "groupby_df"
   ]
  },
  {
   "cell_type": "markdown",
   "metadata": {},
   "source": [
    "## Age\n",
    "W tym przypadku można zastąpić brakujące wartości medianą. <br> (Operacje na brakujących wartościach zostaną wykonane na końcu dokumentu, aby nie przeszkadzały w wykrywaniu zależności pomiędzy brakującymi wartościami)\n",
    "\n",
    "Jak widać poniżej prawie wszystkie brakujące wartości w kolumnie Age (poza jedną) mają również brakujące wartości w kolumnie **Body**, co oznacza że nie znamy wieku tych osób, których ciał nigdy nie odnaleziono.\n",
    "\n",
    "Dzięki temu wartości braujące w kolumnie **Age** można uznać za **Missing at Random**"
   ]
  },
  {
   "cell_type": "code",
   "execution_count": 10,
   "metadata": {},
   "outputs": [
    {
     "data": {
      "text/plain": [
       "0.9961977186311787"
      ]
     },
     "execution_count": 10,
     "metadata": {},
     "output_type": "execute_result"
    }
   ],
   "source": [
    "len(titanic_df[(titanic_df['AgeNull'] == 1) & (titanic_df['BodyNull'] == 1)]) / titanic_df['Age'].isnull().sum()"
   ]
  },
  {
   "cell_type": "code",
   "execution_count": 11,
   "metadata": {},
   "outputs": [],
   "source": [
    "age_median = titanic_df['Age'].median()\n",
    "titanic_df['Age'].fillna(age_median, inplace=True)"
   ]
  },
  {
   "cell_type": "markdown",
   "metadata": {},
   "source": [
    "## Fare\n",
    "W tym przypadku liczba brakujących wartości wynosi mniej niż 5%, więc takie wiersze można bez problemu usunąć, a brakujące dane nie mają żadnego związku z innymi <br>\n",
    "**Missing Completely at Random**"
   ]
  },
  {
   "cell_type": "markdown",
   "metadata": {},
   "source": [
    "## Cabin\n",
    "W tym przypadku brakujących wartości jest za dużo **(77%)**, żeby usuwać wiersze lub zastępować je wartościami średnimi (zmienna nie jest numeryczna), więc będzie trzeba usunąć całą kolumnę\n",
    "\n",
    "Można zauważyć, że zdecydowana większość wartości brakujących w tej kolumnie wiąże się z wartościami brakującymi w kolumnie Body, co oznacza że nie znaleziono id kabin pasażerów, którzy zginęli. <br>\n",
    "**Missing at Random**"
   ]
  },
  {
   "cell_type": "code",
   "execution_count": 12,
   "metadata": {},
   "outputs": [
    {
     "data": {
      "text/plain": [
       "0.9122287968441815"
      ]
     },
     "execution_count": 12,
     "metadata": {},
     "output_type": "execute_result"
    }
   ],
   "source": [
    "len(titanic_df[(titanic_df['CabinNull'] == 1) & (titanic_df['BodyNull'] == 1)]) / titanic_df['Cabin'].isnull().sum()"
   ]
  },
  {
   "cell_type": "markdown",
   "metadata": {},
   "source": [
    "## Embarked\n",
    "\n",
    "Tutaj jest podobnie jak w przypadku kolumny **Fare**, gdyż liczba brakujących wartości wynosi mniej niż 5%, więc takie wiersze można bez problemu usunąć, a same brakujące dane nie mają związku z innymi. <br>\n",
    "**Missing Completely at Random**"
   ]
  },
  {
   "cell_type": "markdown",
   "metadata": {},
   "source": [
    "## Boat\n",
    "\n",
    "W tym przypadku zdaje się być za dużo brakujących wartości **63%**, więc kolumna jest do usunięcia. Samo występowanie brakujących wartości jest silnie powiązane z kolumną **Survived**, gdyż 98% osób które zginęły nie dostały się na łódź ratunkową, co wydaje się być zrozumiałe. Dodatkowo w 85% przypadków nie znaleziono ciała osoby, która nie dostałą się na łódź ratunkową <br>\n",
    "Zważając na te obserwacje, można wywnioskować że obecność wartości brakujących w kolumnie **Boat** nie jest przypadkowa <br>\n",
    "**Missing Not at Random**"
   ]
  },
  {
   "cell_type": "code",
   "execution_count": 13,
   "metadata": {},
   "outputs": [
    {
     "data": {
      "text/plain": [
       "0.8529769137302552"
      ]
     },
     "execution_count": 13,
     "metadata": {},
     "output_type": "execute_result"
    }
   ],
   "source": [
    "len(titanic_df[(titanic_df['BoatNull'] == 1) & (titanic_df['BodyNull'] == 1)]) / titanic_df['Boat'].isnull().sum()"
   ]
  },
  {
   "cell_type": "markdown",
   "metadata": {},
   "source": [
    "## Body \n",
    "\n",
    "Tutaj jest bardzo podobny przypadek, ponieważ **90%** brakujących wartości zmusza nas do usunięcia całej kolumny. Dodatkowo w tej kolumnie sytuacja z wartościami brakującymi jest najbradziej jasna, gdyż osoby które przeżyły mają brakującą wartość w tej kolumnie, ponieważ jeśli ktoś przeżył, to nie zalicza się go jako osobę, której ciało odnaleziono. <br>\n",
    "Jak wspomniano wyżej istnieje też powiązanie z kolumną **Boat** wyjaśnione powyżej <br>\n",
    "**Missing Not at Random**"
   ]
  },
  {
   "cell_type": "markdown",
   "metadata": {},
   "source": [
    "## Home Destination\n",
    "\n",
    "Tutaj również jesteśmy zmuszeni do usunięcia całej kolumny, bo **43%** wartości jest brakujących, a kolumna nie jest numeryczna. <br>\n",
    "Nie wygląda na to, żeby brakujące wartości miały tutaj powiązanie z innymi, więc można je uznać za kompletnie losowe <br>\n",
    "**Missing Completely at Random**"
   ]
  },
  {
   "cell_type": "markdown",
   "metadata": {},
   "source": [
    "**Po wyjaśnieniu przyczyn i zależności między brakującymi wartościami można przystąpić do działania na nich**"
   ]
  },
  {
   "cell_type": "code",
   "execution_count": 14,
   "metadata": {},
   "outputs": [],
   "source": [
    "age_median = titanic_df['Age'].median()\n",
    "titanic_df['Age'].fillna(age_median, inplace=True)\n",
    "titanic_df.dropna(axis=0, subset=['Embarked', 'Fare'], inplace=True)\n",
    "#titanic_df.drop(['Cabin', 'Boat', 'Body', 'Home Destination'],axis=1,  inplace=True)\n",
    "titanic_df['Boat'].fillna(0, inplace=True)\n",
    "titanic_df['Body'].fillna(0, inplace=True)"
   ]
  },
  {
   "cell_type": "code",
   "execution_count": 15,
   "metadata": {
    "tags": []
   },
   "outputs": [
    {
     "data": {
      "text/html": [
       "<div>\n",
       "<style scoped>\n",
       "    .dataframe tbody tr th:only-of-type {\n",
       "        vertical-align: middle;\n",
       "    }\n",
       "\n",
       "    .dataframe tbody tr th {\n",
       "        vertical-align: top;\n",
       "    }\n",
       "\n",
       "    .dataframe thead th {\n",
       "        text-align: right;\n",
       "    }\n",
       "</style>\n",
       "<table border=\"1\" class=\"dataframe\">\n",
       "  <thead>\n",
       "    <tr style=\"text-align: right;\">\n",
       "      <th></th>\n",
       "      <th>Pclass</th>\n",
       "      <th>Survived</th>\n",
       "      <th>Name</th>\n",
       "      <th>Sex</th>\n",
       "      <th>Age</th>\n",
       "      <th>SibSp</th>\n",
       "      <th>Parch</th>\n",
       "      <th>Ticket</th>\n",
       "      <th>Fare</th>\n",
       "      <th>Cabin</th>\n",
       "      <th>...</th>\n",
       "      <th>Boat</th>\n",
       "      <th>Body</th>\n",
       "      <th>Home Destination</th>\n",
       "      <th>AgeNull</th>\n",
       "      <th>FareNull</th>\n",
       "      <th>CabinNull</th>\n",
       "      <th>EmbarkedNull</th>\n",
       "      <th>BoatNull</th>\n",
       "      <th>BodyNull</th>\n",
       "      <th>Home DestinationNull</th>\n",
       "    </tr>\n",
       "    <tr>\n",
       "      <th>PassengerId</th>\n",
       "      <th></th>\n",
       "      <th></th>\n",
       "      <th></th>\n",
       "      <th></th>\n",
       "      <th></th>\n",
       "      <th></th>\n",
       "      <th></th>\n",
       "      <th></th>\n",
       "      <th></th>\n",
       "      <th></th>\n",
       "      <th></th>\n",
       "      <th></th>\n",
       "      <th></th>\n",
       "      <th></th>\n",
       "      <th></th>\n",
       "      <th></th>\n",
       "      <th></th>\n",
       "      <th></th>\n",
       "      <th></th>\n",
       "      <th></th>\n",
       "      <th></th>\n",
       "    </tr>\n",
       "  </thead>\n",
       "  <tbody>\n",
       "    <tr>\n",
       "      <th>0</th>\n",
       "      <td>1</td>\n",
       "      <td>1</td>\n",
       "      <td>Allen, Miss. Elisabeth Walton</td>\n",
       "      <td>female</td>\n",
       "      <td>29.0000</td>\n",
       "      <td>0</td>\n",
       "      <td>0</td>\n",
       "      <td>24160</td>\n",
       "      <td>211.3375</td>\n",
       "      <td>B5</td>\n",
       "      <td>...</td>\n",
       "      <td>2</td>\n",
       "      <td>0.0</td>\n",
       "      <td>St Louis, MO</td>\n",
       "      <td>0</td>\n",
       "      <td>0</td>\n",
       "      <td>0</td>\n",
       "      <td>0</td>\n",
       "      <td>0</td>\n",
       "      <td>1</td>\n",
       "      <td>0</td>\n",
       "    </tr>\n",
       "    <tr>\n",
       "      <th>1</th>\n",
       "      <td>1</td>\n",
       "      <td>1</td>\n",
       "      <td>Allison, Master. Hudson Trevor</td>\n",
       "      <td>male</td>\n",
       "      <td>0.9167</td>\n",
       "      <td>1</td>\n",
       "      <td>2</td>\n",
       "      <td>113781</td>\n",
       "      <td>151.5500</td>\n",
       "      <td>C22 C26</td>\n",
       "      <td>...</td>\n",
       "      <td>11</td>\n",
       "      <td>0.0</td>\n",
       "      <td>Montreal, PQ / Chesterville, ON</td>\n",
       "      <td>0</td>\n",
       "      <td>0</td>\n",
       "      <td>0</td>\n",
       "      <td>0</td>\n",
       "      <td>0</td>\n",
       "      <td>1</td>\n",
       "      <td>0</td>\n",
       "    </tr>\n",
       "    <tr>\n",
       "      <th>2</th>\n",
       "      <td>1</td>\n",
       "      <td>0</td>\n",
       "      <td>Allison, Miss. Helen Loraine</td>\n",
       "      <td>female</td>\n",
       "      <td>2.0000</td>\n",
       "      <td>1</td>\n",
       "      <td>2</td>\n",
       "      <td>113781</td>\n",
       "      <td>151.5500</td>\n",
       "      <td>C22 C26</td>\n",
       "      <td>...</td>\n",
       "      <td>0</td>\n",
       "      <td>0.0</td>\n",
       "      <td>Montreal, PQ / Chesterville, ON</td>\n",
       "      <td>0</td>\n",
       "      <td>0</td>\n",
       "      <td>0</td>\n",
       "      <td>0</td>\n",
       "      <td>1</td>\n",
       "      <td>1</td>\n",
       "      <td>0</td>\n",
       "    </tr>\n",
       "    <tr>\n",
       "      <th>3</th>\n",
       "      <td>1</td>\n",
       "      <td>0</td>\n",
       "      <td>Allison, Mr. Hudson Joshua Creighton</td>\n",
       "      <td>male</td>\n",
       "      <td>30.0000</td>\n",
       "      <td>1</td>\n",
       "      <td>2</td>\n",
       "      <td>113781</td>\n",
       "      <td>151.5500</td>\n",
       "      <td>C22 C26</td>\n",
       "      <td>...</td>\n",
       "      <td>0</td>\n",
       "      <td>135.0</td>\n",
       "      <td>Montreal, PQ / Chesterville, ON</td>\n",
       "      <td>0</td>\n",
       "      <td>0</td>\n",
       "      <td>0</td>\n",
       "      <td>0</td>\n",
       "      <td>1</td>\n",
       "      <td>0</td>\n",
       "      <td>0</td>\n",
       "    </tr>\n",
       "    <tr>\n",
       "      <th>4</th>\n",
       "      <td>1</td>\n",
       "      <td>0</td>\n",
       "      <td>Allison, Mrs. Hudson J C (Bessie Waldo Daniels)</td>\n",
       "      <td>female</td>\n",
       "      <td>25.0000</td>\n",
       "      <td>1</td>\n",
       "      <td>2</td>\n",
       "      <td>113781</td>\n",
       "      <td>151.5500</td>\n",
       "      <td>C22 C26</td>\n",
       "      <td>...</td>\n",
       "      <td>0</td>\n",
       "      <td>0.0</td>\n",
       "      <td>Montreal, PQ / Chesterville, ON</td>\n",
       "      <td>0</td>\n",
       "      <td>0</td>\n",
       "      <td>0</td>\n",
       "      <td>0</td>\n",
       "      <td>1</td>\n",
       "      <td>1</td>\n",
       "      <td>0</td>\n",
       "    </tr>\n",
       "  </tbody>\n",
       "</table>\n",
       "<p>5 rows × 21 columns</p>\n",
       "</div>"
      ],
      "text/plain": [
       "             Pclass  Survived  \\\n",
       "PassengerId                     \n",
       "0                 1         1   \n",
       "1                 1         1   \n",
       "2                 1         0   \n",
       "3                 1         0   \n",
       "4                 1         0   \n",
       "\n",
       "                                                        Name     Sex      Age  \\\n",
       "PassengerId                                                                     \n",
       "0                              Allen, Miss. Elisabeth Walton  female  29.0000   \n",
       "1                             Allison, Master. Hudson Trevor    male   0.9167   \n",
       "2                               Allison, Miss. Helen Loraine  female   2.0000   \n",
       "3                       Allison, Mr. Hudson Joshua Creighton    male  30.0000   \n",
       "4            Allison, Mrs. Hudson J C (Bessie Waldo Daniels)  female  25.0000   \n",
       "\n",
       "             SibSp  Parch  Ticket      Fare    Cabin  ... Boat   Body  \\\n",
       "PassengerId                                           ...               \n",
       "0                0      0   24160  211.3375       B5  ...    2    0.0   \n",
       "1                1      2  113781  151.5500  C22 C26  ...   11    0.0   \n",
       "2                1      2  113781  151.5500  C22 C26  ...    0    0.0   \n",
       "3                1      2  113781  151.5500  C22 C26  ...    0  135.0   \n",
       "4                1      2  113781  151.5500  C22 C26  ...    0    0.0   \n",
       "\n",
       "                            Home Destination AgeNull  FareNull  CabinNull  \\\n",
       "PassengerId                                                                 \n",
       "0                               St Louis, MO       0         0          0   \n",
       "1            Montreal, PQ / Chesterville, ON       0         0          0   \n",
       "2            Montreal, PQ / Chesterville, ON       0         0          0   \n",
       "3            Montreal, PQ / Chesterville, ON       0         0          0   \n",
       "4            Montreal, PQ / Chesterville, ON       0         0          0   \n",
       "\n",
       "             EmbarkedNull  BoatNull  BodyNull  Home DestinationNull  \n",
       "PassengerId                                                          \n",
       "0                       0         0         1                     0  \n",
       "1                       0         0         1                     0  \n",
       "2                       0         1         1                     0  \n",
       "3                       0         1         0                     0  \n",
       "4                       0         1         1                     0  \n",
       "\n",
       "[5 rows x 21 columns]"
      ]
     },
     "execution_count": 15,
     "metadata": {},
     "output_type": "execute_result"
    }
   ],
   "source": [
    "titanic_df.head()"
   ]
  },
  {
   "cell_type": "code",
   "execution_count": 16,
   "metadata": {
    "tags": []
   },
   "outputs": [
    {
     "data": {
      "text/html": [
       "<div>\n",
       "<style scoped>\n",
       "    .dataframe tbody tr th:only-of-type {\n",
       "        vertical-align: middle;\n",
       "    }\n",
       "\n",
       "    .dataframe tbody tr th {\n",
       "        vertical-align: top;\n",
       "    }\n",
       "\n",
       "    .dataframe thead th {\n",
       "        text-align: right;\n",
       "    }\n",
       "</style>\n",
       "<table border=\"1\" class=\"dataframe\">\n",
       "  <thead>\n",
       "    <tr style=\"text-align: right;\">\n",
       "      <th></th>\n",
       "      <th>Pclass</th>\n",
       "      <th>Survived</th>\n",
       "      <th>Name</th>\n",
       "      <th>Sex</th>\n",
       "      <th>Age</th>\n",
       "      <th>SibSp</th>\n",
       "      <th>Parch</th>\n",
       "      <th>Ticket</th>\n",
       "      <th>Fare</th>\n",
       "      <th>Cabin</th>\n",
       "      <th>Embarked</th>\n",
       "      <th>Boat</th>\n",
       "      <th>Body</th>\n",
       "      <th>Home Destination</th>\n",
       "    </tr>\n",
       "    <tr>\n",
       "      <th>PassengerId</th>\n",
       "      <th></th>\n",
       "      <th></th>\n",
       "      <th></th>\n",
       "      <th></th>\n",
       "      <th></th>\n",
       "      <th></th>\n",
       "      <th></th>\n",
       "      <th></th>\n",
       "      <th></th>\n",
       "      <th></th>\n",
       "      <th></th>\n",
       "      <th></th>\n",
       "      <th></th>\n",
       "      <th></th>\n",
       "    </tr>\n",
       "  </thead>\n",
       "  <tbody>\n",
       "    <tr>\n",
       "      <th>0</th>\n",
       "      <td>1</td>\n",
       "      <td>1</td>\n",
       "      <td>Allen, Miss. Elisabeth Walton</td>\n",
       "      <td>female</td>\n",
       "      <td>29.0000</td>\n",
       "      <td>0</td>\n",
       "      <td>0</td>\n",
       "      <td>24160</td>\n",
       "      <td>211.3375</td>\n",
       "      <td>B5</td>\n",
       "      <td>S</td>\n",
       "      <td>2</td>\n",
       "      <td>0.0</td>\n",
       "      <td>St Louis, MO</td>\n",
       "    </tr>\n",
       "    <tr>\n",
       "      <th>1</th>\n",
       "      <td>1</td>\n",
       "      <td>1</td>\n",
       "      <td>Allison, Master. Hudson Trevor</td>\n",
       "      <td>male</td>\n",
       "      <td>0.9167</td>\n",
       "      <td>1</td>\n",
       "      <td>2</td>\n",
       "      <td>113781</td>\n",
       "      <td>151.5500</td>\n",
       "      <td>C22 C26</td>\n",
       "      <td>S</td>\n",
       "      <td>11</td>\n",
       "      <td>0.0</td>\n",
       "      <td>Montreal, PQ / Chesterville, ON</td>\n",
       "    </tr>\n",
       "    <tr>\n",
       "      <th>2</th>\n",
       "      <td>1</td>\n",
       "      <td>0</td>\n",
       "      <td>Allison, Miss. Helen Loraine</td>\n",
       "      <td>female</td>\n",
       "      <td>2.0000</td>\n",
       "      <td>1</td>\n",
       "      <td>2</td>\n",
       "      <td>113781</td>\n",
       "      <td>151.5500</td>\n",
       "      <td>C22 C26</td>\n",
       "      <td>S</td>\n",
       "      <td>0</td>\n",
       "      <td>0.0</td>\n",
       "      <td>Montreal, PQ / Chesterville, ON</td>\n",
       "    </tr>\n",
       "    <tr>\n",
       "      <th>3</th>\n",
       "      <td>1</td>\n",
       "      <td>0</td>\n",
       "      <td>Allison, Mr. Hudson Joshua Creighton</td>\n",
       "      <td>male</td>\n",
       "      <td>30.0000</td>\n",
       "      <td>1</td>\n",
       "      <td>2</td>\n",
       "      <td>113781</td>\n",
       "      <td>151.5500</td>\n",
       "      <td>C22 C26</td>\n",
       "      <td>S</td>\n",
       "      <td>0</td>\n",
       "      <td>135.0</td>\n",
       "      <td>Montreal, PQ / Chesterville, ON</td>\n",
       "    </tr>\n",
       "    <tr>\n",
       "      <th>4</th>\n",
       "      <td>1</td>\n",
       "      <td>0</td>\n",
       "      <td>Allison, Mrs. Hudson J C (Bessie Waldo Daniels)</td>\n",
       "      <td>female</td>\n",
       "      <td>25.0000</td>\n",
       "      <td>1</td>\n",
       "      <td>2</td>\n",
       "      <td>113781</td>\n",
       "      <td>151.5500</td>\n",
       "      <td>C22 C26</td>\n",
       "      <td>S</td>\n",
       "      <td>0</td>\n",
       "      <td>0.0</td>\n",
       "      <td>Montreal, PQ / Chesterville, ON</td>\n",
       "    </tr>\n",
       "  </tbody>\n",
       "</table>\n",
       "</div>"
      ],
      "text/plain": [
       "             Pclass  Survived  \\\n",
       "PassengerId                     \n",
       "0                 1         1   \n",
       "1                 1         1   \n",
       "2                 1         0   \n",
       "3                 1         0   \n",
       "4                 1         0   \n",
       "\n",
       "                                                        Name     Sex      Age  \\\n",
       "PassengerId                                                                     \n",
       "0                              Allen, Miss. Elisabeth Walton  female  29.0000   \n",
       "1                             Allison, Master. Hudson Trevor    male   0.9167   \n",
       "2                               Allison, Miss. Helen Loraine  female   2.0000   \n",
       "3                       Allison, Mr. Hudson Joshua Creighton    male  30.0000   \n",
       "4            Allison, Mrs. Hudson J C (Bessie Waldo Daniels)  female  25.0000   \n",
       "\n",
       "             SibSp  Parch  Ticket      Fare    Cabin Embarked Boat   Body  \\\n",
       "PassengerId                                                                 \n",
       "0                0      0   24160  211.3375       B5        S    2    0.0   \n",
       "1                1      2  113781  151.5500  C22 C26        S   11    0.0   \n",
       "2                1      2  113781  151.5500  C22 C26        S    0    0.0   \n",
       "3                1      2  113781  151.5500  C22 C26        S    0  135.0   \n",
       "4                1      2  113781  151.5500  C22 C26        S    0    0.0   \n",
       "\n",
       "                            Home Destination  \n",
       "PassengerId                                   \n",
       "0                               St Louis, MO  \n",
       "1            Montreal, PQ / Chesterville, ON  \n",
       "2            Montreal, PQ / Chesterville, ON  \n",
       "3            Montreal, PQ / Chesterville, ON  \n",
       "4            Montreal, PQ / Chesterville, ON  "
      ]
     },
     "execution_count": 16,
     "metadata": {},
     "output_type": "execute_result"
    }
   ],
   "source": [
    "titanic_df.drop(['AgeNull', 'FareNull', 'CabinNull', 'EmbarkedNull', 'BoatNull', 'BodyNull', 'Home DestinationNull'], axis=1, inplace=True)\n",
    "titanic_df.head()"
   ]
  },
  {
   "cell_type": "code",
   "execution_count": 17,
   "metadata": {},
   "outputs": [],
   "source": [
    "titanic_df.to_csv('titanic_df.csv')"
   ]
  },
  {
   "cell_type": "code",
   "execution_count": null,
   "metadata": {},
   "outputs": [],
   "source": []
  }
 ],
 "metadata": {
  "kernelspec": {
   "display_name": "Python 3 (ipykernel)",
   "language": "python",
   "name": "python3"
  },
  "language_info": {
   "codemirror_mode": {
    "name": "ipython",
    "version": 3
   },
   "file_extension": ".py",
   "mimetype": "text/x-python",
   "name": "python",
   "nbconvert_exporter": "python",
   "pygments_lexer": "ipython3",
   "version": "3.11.5"
  }
 },
 "nbformat": 4,
 "nbformat_minor": 4
}
